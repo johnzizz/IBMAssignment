{
 "cells": [
  {
   "cell_type": "markdown",
   "id": "7b194490-a884-49c9-bdd6-8e14ae784c4d",
   "metadata": {},
   "source": [
    "# Data Science Tools and Ecosystem"
   ]
  },
  {
   "cell_type": "markdown",
   "id": "19c16112-b66c-4c15-8aa6-37704b0d96be",
   "metadata": {},
   "source": [
    "In this notebook, Data Science Tools and Ecosystems are summarized."
   ]
  },
  {
   "cell_type": "markdown",
   "id": "53988d5c-0ceb-4645-b203-120e55b6f1de",
   "metadata": {},
   "source": [
    "**Objectives:**\n",
    "- list languages for data science\n",
    "- list libraries for data science\n",
    "- list tools for data science\n",
    "- do some math\n",
    "- make some markdown cells"
   ]
  },
  {
   "cell_type": "markdown",
   "id": "39aec5a3-ae78-42dc-be94-e1c5f9b9e86d",
   "metadata": {},
   "source": [
    "Some of the popular languages that Data Scientists use are: \n",
    "1. R\n",
    "2. Python\n",
    "3. SQL"
   ]
  },
  {
   "cell_type": "markdown",
   "id": "25c42521-3285-4fce-906b-ba6660bdb09c",
   "metadata": {},
   "source": [
    "Some of the commonly used libraries in Data Science include: \n",
    "1. pandas\n",
    "2. matplotlib\n",
    "3. numpy"
   ]
  },
  {
   "cell_type": "markdown",
   "id": "bc97cf6b-b9b7-4c7f-b1f1-fb47331dc6d4",
   "metadata": {},
   "source": [
    "|Data Science Tools|\n",
    "------\n",
    "|Jupyter Notebook|\n",
    "|RStudio|\n",
    "|Spyder|"
   ]
  },
  {
   "cell_type": "markdown",
   "id": "72d11b42-f852-4868-9fd0-bce4d451e38e",
   "metadata": {},
   "source": [
    "### Below are a few examples of evaluating arithmetic expressions in Python"
   ]
  },
  {
   "cell_type": "code",
   "execution_count": 2,
   "id": "5d6cdc18-2151-471e-8ed5-e64c226f59da",
   "metadata": {},
   "outputs": [
    {
     "data": {
      "text/plain": [
       "17"
      ]
     },
     "execution_count": 2,
     "metadata": {},
     "output_type": "execute_result"
    }
   ],
   "source": [
    "# This is a simple arithmetic expression to multiply then add integers\n",
    "(3*4)+5"
   ]
  },
  {
   "cell_type": "code",
   "execution_count": 3,
   "id": "6191d31d-7217-4d4d-ad53-8c14ace4dcd1",
   "metadata": {},
   "outputs": [
    {
     "data": {
      "text/plain": [
       "3.3333333333333335"
      ]
     },
     "execution_count": 3,
     "metadata": {},
     "output_type": "execute_result"
    }
   ],
   "source": [
    "# This will convert 200 minutes to hours by dividing by 60\n",
    "200/60"
   ]
  },
  {
   "cell_type": "markdown",
   "id": "98de0fcc-ecc6-48f2-9ef7-e8c1be11ac95",
   "metadata": {},
   "source": [
    "## Author\n",
    "John Z"
   ]
  },
  {
   "cell_type": "code",
   "execution_count": null,
   "id": "e040d085-4273-4626-9a2d-be7579027902",
   "metadata": {},
   "outputs": [],
   "source": []
  }
 ],
 "metadata": {
  "kernelspec": {
   "display_name": "Python 3 (ipykernel)",
   "language": "python",
   "name": "python3"
  },
  "language_info": {
   "codemirror_mode": {
    "name": "ipython",
    "version": 3
   },
   "file_extension": ".py",
   "mimetype": "text/x-python",
   "name": "python",
   "nbconvert_exporter": "python",
   "pygments_lexer": "ipython3",
   "version": "3.11.7"
  }
 },
 "nbformat": 4,
 "nbformat_minor": 5
}
